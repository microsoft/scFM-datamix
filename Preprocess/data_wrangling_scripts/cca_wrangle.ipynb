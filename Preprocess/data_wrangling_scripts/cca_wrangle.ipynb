{
 "cells": [
  {
   "cell_type": "code",
   "execution_count": null,
   "metadata": {},
   "outputs": [],
   "source": [
    "import scanpy as sc\n",
    "import pandas as pd\n",
    "import numpy as np\n",
    "import matplotlib.pyplot as plt\n",
    "import seaborn as sns\n",
    "import os\n",
    "from scipy.io import mmread\n",
    "from anndata import AnnData\n",
    "import anndata as ad"
   ]
  },
  {
   "cell_type": "code",
   "execution_count": null,
   "metadata": {},
   "outputs": [],
   "source": [
    "def read_10x_cca(data_path,study):\n",
    "    mtx_file = data_path + 'Exp_data_UMIcounts.mtx'\n",
    "    cells_file = data_path + \"Cells.csv\"\n",
    "    genes_file = data_path + 'Genes.txt'\n",
    "    if study == 'Bischoff2021':\n",
    "        genes_file = data_path + 'genes.txt'\n",
    "    print(mtx_file)\n",
    "    matrix = mmread(mtx_file).tocsr().transpose()  # Transpose to make cells rows and genes columns\n",
    "\n",
    "    # Read the cells file\n",
    "    cells = pd.read_csv(cells_file)\n",
    "    cells['study'] = study\n",
    "    # Read the genes file\n",
    "    genes = pd.read_csv(genes_file, header=None, sep='\\t')\n",
    "    genes.columns = ['gene_symbols']\n",
    "\n",
    "    # Create an AnnData object\n",
    "    adata = AnnData(X=matrix)\n",
    "    adata.obs = cells\n",
    "    adata.var = genes\n",
    "    adata.var_names = genes['gene_symbols']\n",
    "    adata.var_names_make_unique()\n",
    "    adata.obs_names_make_unique()\n",
    "\n",
    "    return(adata)"
   ]
  },
  {
   "cell_type": "code",
   "execution_count": null,
   "metadata": {},
   "outputs": [],
   "source": [
    "def concatenate_cca_tissue(data_directories,studies):\n",
    "    adata_list = []\n",
    "    for i in range(len(data_directories)):\n",
    "        print(studies[i])\n",
    "        if (os.path.exists(data_directories[i] + 'Exp_data_UMIcounts.mtx') == False):\n",
    "            print(\"Skipping \" + studies[i] + \" because the file does not exist\")\n",
    "            continue\n",
    "        adata = read_10x_cca(data_directories[i],studies[i])\n",
    "        adata_list.append(adata)\n",
    "    adata_concat = ad.concat(adata_list)\n",
    "    return(adata_concat)"
   ]
  },
  {
   "cell_type": "code",
   "execution_count": null,
   "metadata": {},
   "outputs": [],
   "source": [
    "def wrangle_cca_data(tissue):\n",
    "    tissue_directory = \"/home/madhughes/cca_data/Data_\" + tissue +'/'\n",
    "\n",
    "    study_directories = os.listdir(tissue_directory)\n",
    "\n",
    "    studies = [x.split('_')[1] for x in study_directories]\n",
    "\n",
    "    data_directories = [tissue_directory + study_directory + \"/\" for study_directory in study_directories]\n",
    "\n",
    "    concat_adata = concatenate_cca_tissue(data_directories,studies)\n",
    "\n",
    "    #update sample to be a string, cell_type to be a string, complexity to be a number, and study to be a string\n",
    "    concat_adata.obs['sample'] = concat_adata.obs['sample'].astype(str)\n",
    "    concat_adata.obs['cell_type'] = concat_adata.obs['cell_type'].astype(str)\n",
    "    concat_adata.obs['complexity'] = concat_adata.obs['complexity'].astype(float)\n",
    "    concat_adata.obs['study'] = concat_adata.obs['study'].astype(str)\n",
    "\n",
    "    return(concat_adata)\n"
   ]
  },
  {
   "cell_type": "code",
   "execution_count": null,
   "metadata": {},
   "outputs": [],
   "source": [
    "#loop through tissues and wrangle data\n",
    "# tissues = ['Prostate',\n",
    "#            #'Lung', Fix bug later\n",
    "#            'Head and Neck',\n",
    "#            'Kidney',\n",
    "#            'Liver-Biliary',\n",
    "#            'Sarcoma',\n",
    "#            'Ovarian',\n",
    "#            'Neuroendocrine',\n",
    "#            'Breast',\n",
    "#            'Colorectal',\n",
    "#            'Pancreas',\n",
    "#            #'Brain', Fix bug later\n",
    "#            'Hematologic',\n",
    "#            'Skin']\n",
    "tissues = ['Lung', 'Brain']\n",
    "\n",
    "\n",
    "output_data = '/home/madhughes/weizmann_cca/'\n",
    "\n",
    "\n",
    "for tissue in tissues:\n",
    "    print(tissue)\n",
    "    adata = wrangle_cca_data(tissue)\n",
    "    adata.obs['tissue'] = tissue\n",
    "    print(adata)\n",
    "    adata.obs['cell_name'] = adata.obs['cell_name'].astype(str)\n",
    "    adata.write_h5ad(output_data + 'cca_' + tissue + '_aggregated.h5ad')\n",
    "    print(adata)\n",
    "    print(\"Done writing \" + tissue)\n"
   ]
  },
  {
   "cell_type": "code",
   "execution_count": null,
   "metadata": {},
   "outputs": [],
   "source": []
  }
 ],
 "metadata": {
  "kernelspec": {
   "display_name": "ssl-env2",
   "language": "python",
   "name": "python3"
  },
  "language_info": {
   "codemirror_mode": {
    "name": "ipython",
    "version": 3
   },
   "file_extension": ".py",
   "mimetype": "text/x-python",
   "name": "python",
   "nbconvert_exporter": "python",
   "pygments_lexer": "ipython3",
   "version": "3.10.14"
  }
 },
 "nbformat": 4,
 "nbformat_minor": 2
}
