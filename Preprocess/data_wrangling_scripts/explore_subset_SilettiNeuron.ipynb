{
 "cells": [
  {
   "cell_type": "code",
   "execution_count": 2,
   "metadata": {},
   "outputs": [],
   "source": [
    "import logging\n",
    "import scanpy as sc\n",
    "import pandas as pd\n",
    "import seaborn as sns\n",
    "import matplotlib.pyplot as plt\n",
    "import numpy as np\n",
    "from scipy.stats import linregress\n",
    "import math\n",
    "import io\n",
    "import gzip\n",
    "import statsmodels.api as sm\n",
    "from sklearn.decomposition import PCA\n",
    "import scvi\n",
    "import scipy as sp\n",
    "import os\n",
    "import anndata as ad\n",
    "import matplotlib.gridspec as gridspec\n",
    "from sklearn.model_selection import train_test_split\n",
    "from sklearn.ensemble import RandomForestClassifier\n",
    "from sklearn.metrics import accuracy_score, classification_report, r2_score, f1_score\n",
    "import statsmodels.formula.api as smf\n",
    "from sklearn.linear_model import Ridge, LinearRegression\n",
    "from matplotlib.colors import ListedColormap\n",
    "import pickle\n",
    "\n",
    "\n",
    "import sys\n",
    "import os\n",
    "from contextlib import contextmanager\n",
    "\n",
    "@contextmanager\n",
    "def suppress_stdout_stderr():\n",
    "    with open(os.devnull, 'w') as devnull:\n",
    "        old_stdout = sys.stdout\n",
    "        old_stderr = sys.stderr\n",
    "        try:\n",
    "            sys.stdout = devnull\n",
    "            sys.stderr = devnull\n",
    "            yield\n",
    "        finally:\n",
    "            sys.stdout = old_stdout\n",
    "            sys.stderr = old_stderr\n"
   ]
  },
  {
   "cell_type": "code",
   "execution_count": 20,
   "metadata": {},
   "outputs": [],
   "source": [
    "#Load the Siletti et al Human Brain Atlas neuron data\n",
    "siletti_humanbrain = sc.read(\"/home/t-ajaynadig/perturbation_project/ldvae_hematopoietic/training_data_raw/SilettiBrainAtlas/Neurons.h5ad\",backed = \"r+\")"
   ]
  },
  {
   "cell_type": "code",
   "execution_count": 21,
   "metadata": {},
   "outputs": [],
   "source": [
    "#subset to donor_id == \"H18.30.002\", and simulataneously sample 10k cells, only indexing the backed object once, i.e. by creating one filter. Do not use copy() as it will load the entire dataset into memory\n",
    "#get the indices for the correct donor\n",
    "donor_indices = siletti_humanbrain.obs[\"donor_id\"] == \"H18.30.002\"\n",
    "#sample 10k of these indices\n",
    "sampled_indices = np.random.choice(np.where(donor_indices)[0],10000,replace = False)\n",
    "#subset the data\n",
    "siletti_humanbrain = siletti_humanbrain[sampled_indices,:]"
   ]
  },
  {
   "cell_type": "code",
   "execution_count": 22,
   "metadata": {},
   "outputs": [
    {
     "data": {
      "text/plain": [
       "supercluster_term\n",
       "Upper-layer intratelencephalic       2111\n",
       "Splatter                             1103\n",
       "Deep-layer intratelencephalic         962\n",
       "MGE interneuron                       857\n",
       "CGE interneuron                       818\n",
       "Medium spiny neuron                   674\n",
       "Amygdala excitatory                   542\n",
       "Upper rhombic lip                     408\n",
       "Midbrain-derived inhibitory           403\n",
       "Thalamic excitatory                   350\n",
       "Hippocampal CA1-3                     322\n",
       "Deep-layer corticothalamic and 6b     279\n",
       "Lower rhombic lip                     266\n",
       "Hippocampal dentate gyrus             235\n",
       "Eccentric medium spiny neuron         175\n",
       "LAMP5-LHX6 and Chandelier             151\n",
       "Miscellaneous                         125\n",
       "Deep-layer near-projecting             79\n",
       "Mammillary body                        64\n",
       "Hippocampal CA4                        38\n",
       "Cerebellar inhibitory                  38\n",
       "Name: count, dtype: int64"
      ]
     },
     "execution_count": 22,
     "metadata": {},
     "output_type": "execute_result"
    }
   ],
   "source": [
    "siletti_humanbrain.obs['supercluster_term'].value_counts()"
   ]
  },
  {
   "cell_type": "code",
   "execution_count": 23,
   "metadata": {},
   "outputs": [],
   "source": [
    "#write out subset to /home/t-ajaynadig/perturbation_project/ldvae_hematopoietic/eval_data/SilettiNeuron_10Ksubset/\n",
    "siletti_humanbrain.write(\"/home/t-ajaynadig/perturbation_project/ldvae_hematopoietic/eval_data/SilettiNeuron_10Ksubset/Neurons_H18.30.002_10Ksubset.h5ad\")"
   ]
  }
 ],
 "metadata": {
  "kernelspec": {
   "display_name": "scvi-env-3",
   "language": "python",
   "name": "python3"
  },
  "language_info": {
   "codemirror_mode": {
    "name": "ipython",
    "version": 3
   },
   "file_extension": ".py",
   "mimetype": "text/x-python",
   "name": "python",
   "nbconvert_exporter": "python",
   "pygments_lexer": "ipython3",
   "version": "3.9.19"
  }
 },
 "nbformat": 4,
 "nbformat_minor": 2
}
